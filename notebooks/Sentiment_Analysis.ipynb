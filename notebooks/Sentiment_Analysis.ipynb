{
 "cells": [
  {
   "cell_type": "markdown",
   "id": "3c573fd5",
   "metadata": {},
   "source": [
    "# IMDB Sentiment Analysis\n",
    "\n",
    "This notebook performs sentiment classification on the IMDB dataset (http://ai.stanford.edu/~amaas/data/sentiment/)."
   ]
  },
  {
   "cell_type": "code",
   "execution_count": 2,
   "id": "fc84b23c",
   "metadata": {},
   "outputs": [
    {
     "name": "stdout",
     "output_type": "stream",
     "text": [
      "Requirement already satisfied: pip in /Library/Frameworks/Python.framework/Versions/3.12/lib/python3.12/site-packages (25.2)\n",
      "Note: you may need to restart the kernel to use updated packages.\n",
      "Collecting tensorflow\n",
      "  Downloading tensorflow-2.20.0-cp312-cp312-macosx_12_0_arm64.whl.metadata (4.5 kB)\n",
      "Requirement already satisfied: scikit-learn in /Library/Frameworks/Python.framework/Versions/3.12/lib/python3.12/site-packages (1.6.1)\n",
      "Requirement already satisfied: numpy in /Library/Frameworks/Python.framework/Versions/3.12/lib/python3.12/site-packages (1.26.4)\n",
      "Collecting absl-py>=1.0.0 (from tensorflow)\n",
      "  Downloading absl_py-2.3.1-py3-none-any.whl.metadata (3.3 kB)\n",
      "Collecting astunparse>=1.6.0 (from tensorflow)\n",
      "  Downloading astunparse-1.6.3-py2.py3-none-any.whl.metadata (4.4 kB)\n",
      "Collecting flatbuffers>=24.3.25 (from tensorflow)\n",
      "  Downloading flatbuffers-25.9.23-py2.py3-none-any.whl.metadata (875 bytes)\n",
      "Collecting gast!=0.5.0,!=0.5.1,!=0.5.2,>=0.2.1 (from tensorflow)\n",
      "  Downloading gast-0.6.0-py3-none-any.whl.metadata (1.3 kB)\n",
      "Collecting google_pasta>=0.1.1 (from tensorflow)\n",
      "  Downloading google_pasta-0.2.0-py3-none-any.whl.metadata (814 bytes)\n",
      "Collecting libclang>=13.0.0 (from tensorflow)\n",
      "  Downloading libclang-18.1.1-1-py2.py3-none-macosx_11_0_arm64.whl.metadata (5.2 kB)\n",
      "Collecting opt_einsum>=2.3.2 (from tensorflow)\n",
      "  Downloading opt_einsum-3.4.0-py3-none-any.whl.metadata (6.3 kB)\n",
      "Requirement already satisfied: packaging in /Library/Frameworks/Python.framework/Versions/3.12/lib/python3.12/site-packages (from tensorflow) (24.1)\n",
      "Collecting protobuf>=5.28.0 (from tensorflow)\n",
      "  Downloading protobuf-6.32.1-cp39-abi3-macosx_10_9_universal2.whl.metadata (593 bytes)\n",
      "Requirement already satisfied: requests<3,>=2.21.0 in /Library/Frameworks/Python.framework/Versions/3.12/lib/python3.12/site-packages (from tensorflow) (2.32.3)\n",
      "Requirement already satisfied: setuptools in /Library/Frameworks/Python.framework/Versions/3.12/lib/python3.12/site-packages (from tensorflow) (74.0.0)\n",
      "Requirement already satisfied: six>=1.12.0 in /Library/Frameworks/Python.framework/Versions/3.12/lib/python3.12/site-packages (from tensorflow) (1.16.0)\n",
      "Requirement already satisfied: termcolor>=1.1.0 in /Library/Frameworks/Python.framework/Versions/3.12/lib/python3.12/site-packages (from tensorflow) (3.0.1)\n",
      "Requirement already satisfied: typing_extensions>=3.6.6 in /Library/Frameworks/Python.framework/Versions/3.12/lib/python3.12/site-packages (from tensorflow) (4.13.1)\n",
      "Requirement already satisfied: wrapt>=1.11.0 in /Library/Frameworks/Python.framework/Versions/3.12/lib/python3.12/site-packages (from tensorflow) (1.17.2)\n",
      "Collecting grpcio<2.0,>=1.24.3 (from tensorflow)\n",
      "  Downloading grpcio-1.75.1-cp312-cp312-macosx_11_0_universal2.whl.metadata (3.7 kB)\n",
      "Collecting tensorboard~=2.20.0 (from tensorflow)\n",
      "  Downloading tensorboard-2.20.0-py3-none-any.whl.metadata (1.8 kB)\n",
      "Collecting keras>=3.10.0 (from tensorflow)\n",
      "  Downloading keras-3.11.3-py3-none-any.whl.metadata (5.9 kB)\n",
      "Collecting h5py>=3.11.0 (from tensorflow)\n",
      "  Downloading h5py-3.14.0-cp312-cp312-macosx_11_0_arm64.whl.metadata (2.7 kB)\n",
      "Collecting ml_dtypes<1.0.0,>=0.5.1 (from tensorflow)\n",
      "  Downloading ml_dtypes-0.5.3-cp312-cp312-macosx_10_13_universal2.whl.metadata (8.9 kB)\n",
      "Requirement already satisfied: charset-normalizer<4,>=2 in /Library/Frameworks/Python.framework/Versions/3.12/lib/python3.12/site-packages (from requests<3,>=2.21.0->tensorflow) (3.3.2)\n",
      "Requirement already satisfied: idna<4,>=2.5 in /Library/Frameworks/Python.framework/Versions/3.12/lib/python3.12/site-packages (from requests<3,>=2.21.0->tensorflow) (3.8)\n",
      "Requirement already satisfied: urllib3<3,>=1.21.1 in /Library/Frameworks/Python.framework/Versions/3.12/lib/python3.12/site-packages (from requests<3,>=2.21.0->tensorflow) (2.2.2)\n",
      "Requirement already satisfied: certifi>=2017.4.17 in /Library/Frameworks/Python.framework/Versions/3.12/lib/python3.12/site-packages (from requests<3,>=2.21.0->tensorflow) (2024.7.4)\n",
      "Collecting markdown>=2.6.8 (from tensorboard~=2.20.0->tensorflow)\n",
      "  Downloading markdown-3.9-py3-none-any.whl.metadata (5.1 kB)\n",
      "Requirement already satisfied: pillow in /Library/Frameworks/Python.framework/Versions/3.12/lib/python3.12/site-packages (from tensorboard~=2.20.0->tensorflow) (11.1.0)\n",
      "Collecting tensorboard-data-server<0.8.0,>=0.7.0 (from tensorboard~=2.20.0->tensorflow)\n",
      "  Using cached tensorboard_data_server-0.7.2-py3-none-any.whl.metadata (1.1 kB)\n",
      "Collecting werkzeug>=1.0.1 (from tensorboard~=2.20.0->tensorflow)\n",
      "  Using cached werkzeug-3.1.3-py3-none-any.whl.metadata (3.7 kB)\n",
      "Requirement already satisfied: scipy>=1.6.0 in /Library/Frameworks/Python.framework/Versions/3.12/lib/python3.12/site-packages (from scikit-learn) (1.13.1)\n",
      "Requirement already satisfied: joblib>=1.2.0 in /Library/Frameworks/Python.framework/Versions/3.12/lib/python3.12/site-packages (from scikit-learn) (1.4.2)\n",
      "Requirement already satisfied: threadpoolctl>=3.1.0 in /Library/Frameworks/Python.framework/Versions/3.12/lib/python3.12/site-packages (from scikit-learn) (3.6.0)\n",
      "Requirement already satisfied: wheel<1.0,>=0.23.0 in /Library/Frameworks/Python.framework/Versions/3.12/lib/python3.12/site-packages (from astunparse>=1.6.0->tensorflow) (0.44.0)\n",
      "Requirement already satisfied: rich in /Library/Frameworks/Python.framework/Versions/3.12/lib/python3.12/site-packages (from keras>=3.10.0->tensorflow) (14.0.0)\n",
      "Collecting namex (from keras>=3.10.0->tensorflow)\n",
      "  Downloading namex-0.1.0-py3-none-any.whl.metadata (322 bytes)\n",
      "Collecting optree (from keras>=3.10.0->tensorflow)\n",
      "  Downloading optree-0.17.0-cp312-cp312-macosx_11_0_arm64.whl.metadata (33 kB)\n",
      "Requirement already satisfied: MarkupSafe>=2.1.1 in /Library/Frameworks/Python.framework/Versions/3.12/lib/python3.12/site-packages (from werkzeug>=1.0.1->tensorboard~=2.20.0->tensorflow) (2.1.5)\n",
      "Requirement already satisfied: markdown-it-py>=2.2.0 in /Library/Frameworks/Python.framework/Versions/3.12/lib/python3.12/site-packages (from rich->keras>=3.10.0->tensorflow) (3.0.0)\n",
      "Requirement already satisfied: pygments<3.0.0,>=2.13.0 in /Library/Frameworks/Python.framework/Versions/3.12/lib/python3.12/site-packages (from rich->keras>=3.10.0->tensorflow) (2.18.0)\n",
      "Requirement already satisfied: mdurl~=0.1 in /Library/Frameworks/Python.framework/Versions/3.12/lib/python3.12/site-packages (from markdown-it-py>=2.2.0->rich->keras>=3.10.0->tensorflow) (0.1.2)\n",
      "Downloading tensorflow-2.20.0-cp312-cp312-macosx_12_0_arm64.whl (200.5 MB)\n",
      "\u001b[2K   \u001b[90m━━━━━━━━━━━━━━━━━━━━━━━━━━━━━━━━━━━━━━━━\u001b[0m \u001b[32m200.5/200.5 MB\u001b[0m \u001b[31m17.8 MB/s\u001b[0m  \u001b[33m0:00:11\u001b[0mm0:00:01\u001b[0m00:01\u001b[0m\n",
      "\u001b[?25hDownloading grpcio-1.75.1-cp312-cp312-macosx_11_0_universal2.whl (11.5 MB)\n",
      "\u001b[2K   \u001b[90m━━━━━━━━━━━━━━━━━━━━━━━━━━━━━━━━━━━━━━━━\u001b[0m \u001b[32m11.5/11.5 MB\u001b[0m \u001b[31m30.7 MB/s\u001b[0m  \u001b[33m0:00:00\u001b[0meta \u001b[36m0:00:01\u001b[0m\n",
      "\u001b[?25hDownloading ml_dtypes-0.5.3-cp312-cp312-macosx_10_13_universal2.whl (663 kB)\n",
      "\u001b[2K   \u001b[90m━━━━━━━━━━━━━━━━━━━━━━━━━━━━━━━━━━━━━━━━\u001b[0m \u001b[32m663.9/663.9 kB\u001b[0m \u001b[31m15.8 MB/s\u001b[0m  \u001b[33m0:00:00\u001b[0m\n",
      "\u001b[?25hDownloading tensorboard-2.20.0-py3-none-any.whl (5.5 MB)\n",
      "\u001b[2K   \u001b[90m━━━━━━━━━━━━━━━━━━━━━━━━━━━━━━━━━━━━━━━━\u001b[0m \u001b[32m5.5/5.5 MB\u001b[0m \u001b[31m29.3 MB/s\u001b[0m  \u001b[33m0:00:00\u001b[0m\n",
      "\u001b[?25hUsing cached tensorboard_data_server-0.7.2-py3-none-any.whl (2.4 kB)\n",
      "Downloading absl_py-2.3.1-py3-none-any.whl (135 kB)\n",
      "Downloading astunparse-1.6.3-py2.py3-none-any.whl (12 kB)\n",
      "Downloading flatbuffers-25.9.23-py2.py3-none-any.whl (30 kB)\n",
      "Downloading gast-0.6.0-py3-none-any.whl (21 kB)\n",
      "Downloading google_pasta-0.2.0-py3-none-any.whl (57 kB)\n",
      "Downloading h5py-3.14.0-cp312-cp312-macosx_11_0_arm64.whl (2.8 MB)\n",
      "\u001b[2K   \u001b[90m━━━━━━━━━━━━━━━━━━━━━━━━━━━━━━━━━━━━━━━━\u001b[0m \u001b[32m2.8/2.8 MB\u001b[0m \u001b[31m34.5 MB/s\u001b[0m  \u001b[33m0:00:00\u001b[0m\n",
      "\u001b[?25hDownloading keras-3.11.3-py3-none-any.whl (1.4 MB)\n",
      "\u001b[2K   \u001b[90m━━━━━━━━━━━━━━━━━━━━━━━━━━━━━━━━━━━━━━━━\u001b[0m \u001b[32m1.4/1.4 MB\u001b[0m \u001b[31m29.6 MB/s\u001b[0m  \u001b[33m0:00:00\u001b[0m\n",
      "\u001b[?25hDownloading libclang-18.1.1-1-py2.py3-none-macosx_11_0_arm64.whl (25.8 MB)\n",
      "\u001b[2K   \u001b[90m━━━━━━━━━━━━━━━━━━━━━━━━━━━━━━━━━━━━━━━━\u001b[0m \u001b[32m25.8/25.8 MB\u001b[0m \u001b[31m30.7 MB/s\u001b[0m  \u001b[33m0:00:00\u001b[0mm0:00:01\u001b[0m00:01\u001b[0m\n",
      "\u001b[?25hDownloading markdown-3.9-py3-none-any.whl (107 kB)\n",
      "Downloading opt_einsum-3.4.0-py3-none-any.whl (71 kB)\n",
      "Downloading protobuf-6.32.1-cp39-abi3-macosx_10_9_universal2.whl (426 kB)\n",
      "Using cached werkzeug-3.1.3-py3-none-any.whl (224 kB)\n",
      "Downloading namex-0.1.0-py3-none-any.whl (5.9 kB)\n",
      "Downloading optree-0.17.0-cp312-cp312-macosx_11_0_arm64.whl (351 kB)\n",
      "Installing collected packages: namex, libclang, flatbuffers, werkzeug, tensorboard-data-server, protobuf, optree, opt_einsum, ml_dtypes, markdown, h5py, grpcio, google_pasta, gast, astunparse, absl-py, tensorboard, keras, tensorflow\n",
      "\u001b[2K   \u001b[90m━━━━━━━━━━━━━━━━━━━━━━━━━━━━━━━━━━━━━━━━\u001b[0m \u001b[32m19/19\u001b[0m [tensorflow]9\u001b[0m [tensorflow]]\n",
      "\u001b[1A\u001b[2KSuccessfully installed absl-py-2.3.1 astunparse-1.6.3 flatbuffers-25.9.23 gast-0.6.0 google_pasta-0.2.0 grpcio-1.75.1 h5py-3.14.0 keras-3.11.3 libclang-18.1.1 markdown-3.9 ml_dtypes-0.5.3 namex-0.1.0 opt_einsum-3.4.0 optree-0.17.0 protobuf-6.32.1 tensorboard-2.20.0 tensorboard-data-server-0.7.2 tensorflow-2.20.0 werkzeug-3.1.3\n",
      "Note: you may need to restart the kernel to use updated packages.\n",
      "If installation succeeded, re-run the notebook cells (imports and models).\n"
     ]
    }
   ],
   "source": [
    "# Install required packages (run this cell if packages are missing in your kernel)\n",
    "# Recommended: run in a GPU-enabled environment (Colab, or a local conda env with GPU drivers).\n",
    "# For most systems:\n",
    "%pip install --upgrade pip\n",
    "%pip install tensorflow scikit-learn numpy\n",
    "\n",
    "# If you're on macOS with Apple Silicon (M1/M2) you may instead use:\n",
    "# %pip install tensorflow-macos tensorflow-metal scikit-learn numpy\n",
    "\n",
    "print('If installation succeeded, re-run the notebook cells (imports and models).')"
   ]
  },
  {
   "cell_type": "code",
   "execution_count": 4,
   "id": "764d5fcf",
   "metadata": {},
   "outputs": [
    {
     "name": "stdout",
     "output_type": "stream",
     "text": [
      "GPUs found: []\n",
      "No GPU detected - CPU will be used.\n"
     ]
    }
   ],
   "source": [
    "# Imports and GPU check\n",
    "import os\n",
    "import numpy as np\n",
    "import tensorflow as tf\n",
    "from tensorflow import keras\n",
    "from tensorflow.keras import layers\n",
    "from tensorflow.keras.preprocessing.sequence import pad_sequences\n",
    "from sklearn.linear_model import LogisticRegression\n",
    "from sklearn.metrics import accuracy_score\n",
    "from sklearn.model_selection import train_test_split\n",
    "from sklearn.feature_extraction.text import ENGLISH_STOP_WORDS\n",
    "import time\n",
    "\n",
    "# GPU detection\n",
    "gpus = tf.config.list_physical_devices('GPU')\n",
    "print('GPUs found:', gpus)\n",
    "if gpus:\n",
    "    try:\n",
    "        for gpu in gpus:\n",
    "            tf.config.experimental.set_memory_growth(gpu, True)\n",
    "        print('Using GPU for training (if available to TensorFlow).')\n",
    "    except Exception as e:\n",
    "        print('Could not set memory growth:', e)\n",
    "else:\n",
    "    print('No GPU detected - CPU will be used.')\n"
   ]
  },
  {
   "cell_type": "code",
   "execution_count": 5,
   "id": "e88e2664",
   "metadata": {},
   "outputs": [
    {
     "name": "stdout",
     "output_type": "stream",
     "text": [
      "Downloading data from https://storage.googleapis.com/tensorflow/tf-keras-datasets/imdb.npz\n",
      "\u001b[1m17464789/17464789\u001b[0m \u001b[32m━━━━━━━━━━━━━━━━━━━━\u001b[0m\u001b[37m\u001b[0m \u001b[1m1s\u001b[0m 0us/step\n",
      "\u001b[1m17464789/17464789\u001b[0m \u001b[32m━━━━━━━━━━━━━━━━━━━━\u001b[0m\u001b[37m\u001b[0m \u001b[1m1s\u001b[0m 0us/step\n",
      "Loaded IMDB: train samples= 25000 test samples= 25000\n",
      "Loaded IMDB: train samples= 25000 test samples= 25000\n",
      "Padded shapes: (25000, 500) (25000, 500)\n",
      "Downloading data from https://storage.googleapis.com/tensorflow/tf-keras-datasets/imdb_word_index.json\n",
      "Padded shapes: (25000, 500) (25000, 500)\n",
      "Downloading data from https://storage.googleapis.com/tensorflow/tf-keras-datasets/imdb_word_index.json\n",
      "\u001b[1m1641221/1641221\u001b[0m \u001b[32m━━━━━━━━━━━━━━━━━━━━\u001b[0m\u001b[37m\u001b[0m \u001b[1m0s\u001b[0m 0us/step\n",
      "\u001b[1m1641221/1641221\u001b[0m \u001b[32m━━━━━━━━━━━━━━━━━━━━\u001b[0m\u001b[37m\u001b[0m \u001b[1m0s\u001b[0m 0us/step\n",
      "Example decoded review (truncated):\n",
      "<START> this film was just brilliant casting location scenery story direction everyone's really suited the part they played and you could just imagine being there robert <UNK> is an amazing actor and now the same being director <UNK> father came from the same scottish island as myself so i loved the fact there was a real connection with this film the witty remarks throughout the film were great it\n",
      "Example decoded review (truncated):\n",
      "<START> this film was just brilliant casting location scenery story direction everyone's really suited the part they played and you could just imagine being there robert <UNK> is an amazing actor and now the same being director <UNK> father came from the same scottish island as myself so i loved the fact there was a real connection with this film the witty remarks throughout the film were great it\n"
     ]
    }
   ],
   "source": [
    "# Load IMDB dataset - keep top n words and pad sequences\n",
    "top_n = 5000  # vocabulary size (keep top 5000 words)\n",
    "maxlen = 500  # maximum review length (in words) - pad/truncate to this length\n",
    "(x_train, y_train), (x_test, y_test) = keras.datasets.imdb.load_data(num_words=top_n)\n",
    "print('Loaded IMDB: train samples=', len(x_train), 'test samples=', len(x_test))\n",
    "\n",
    "# Pad sequences to the same length\n",
    "x_train_pad = pad_sequences(x_train, maxlen=maxlen, padding='post', truncating='post')\n",
    "x_test_pad = pad_sequences(x_test, maxlen=maxlen, padding='post', truncating='post')\n",
    "print('Padded shapes:', x_train_pad.shape, x_test_pad.shape)\n",
    "\n",
    "# Get word index mapping for later decoding/stopword experiments\n",
    "word_index = keras.datasets.imdb.get_word_index()\n",
    "# Reserve indices: 0 (padding), 1 (start), 2 (unknown), 3 (unused) - same scheme Keras uses\n",
    "index_to_word = {index+3: word for word, index in word_index.items()}\n",
    "index_to_word[0] = '<PAD>'\n",
    "index_to_word[1] = '<START>'\n",
    "index_to_word[2] = '<UNK>'\n",
    "index_to_word[3] = '<UNUSED>'\n",
    "\n",
    "def decode_review(sequence):\n",
    "    # Convert sequence of indices to words (ignoring unknown offsets)\n",
    "    return ' '.join(index_to_word.get(i, '?') for i in sequence if i != 0)\n",
    "\n",
    "# Quick sanity decode of first review\n",
    "print('Example decoded review (truncated):')\n",
    "print(decode_review(x_train[0])[:400])\n"
   ]
  },
  {
   "cell_type": "code",
   "execution_count": 6,
   "id": "af2b9015",
   "metadata": {},
   "outputs": [
    {
     "name": "stdout",
     "output_type": "stream",
     "text": [
      "BOW shapes: (25000, 5000) (25000, 5000)\n",
      "\n",
      "Training Logistic Regression (BOW) ...\n"
     ]
    },
    {
     "name": "stderr",
     "output_type": "stream",
     "text": [
      "/Library/Frameworks/Python.framework/Versions/3.12/lib/python3.12/site-packages/sklearn/linear_model/_sag.py:348: ConvergenceWarning: The max_iter was reached which means the coef_ did not converge\n",
      "  warnings.warn(\n"
     ]
    },
    {
     "name": "stdout",
     "output_type": "stream",
     "text": [
      "Logistic Regression accuracy: 85.74% (time 128.3s)\n"
     ]
    }
   ],
   "source": [
    "# Helper: build bag-of-words binary matrix from sequences for Logistic Regression\n",
    "def sequences_to_bow(sequences, vocab_size):\n",
    "    # sequences: list/array of lists of word indices (already limited by num_words)\n",
    "    X = np.zeros((len(sequences), vocab_size), dtype=np.float32)\n",
    "    for i, seq in enumerate(sequences):\n",
    "        for idx in seq:\n",
    "            if 0 < idx < vocab_size:\n",
    "                X[i, idx] = 1.0\n",
    "    return X\n",
    "\n",
    "vocab_size = top_n  # indices range 1..top_n-1 (0 for padding)\n",
    "X_train_bow = sequences_to_bow(x_train_pad, vocab_size)\n",
    "X_test_bow = sequences_to_bow(x_test_pad, vocab_size)\n",
    "print('BOW shapes:', X_train_bow.shape, X_test_bow.shape)\n",
    "\n",
    "# 1) Logistic Regression on BOW features\n",
    "print('\\nTraining Logistic Regression (BOW) ...')\n",
    "start = time.time()\n",
    "lr = LogisticRegression(max_iter=200, solver='saga', n_jobs=-1)\n",
    "lr.fit(X_train_bow, y_train)\n",
    "y_pred_lr = lr.predict(X_test_bow)\n",
    "acc_lr = accuracy_score(y_test, y_pred_lr) * 100.0\n",
    "print(f'Logistic Regression accuracy: {acc_lr:.2f}% (time {time.time()-start:.1f}s)')\n"
   ]
  },
  {
   "cell_type": "code",
   "execution_count": 7,
   "id": "9cb943c6",
   "metadata": {},
   "outputs": [
    {
     "name": "stderr",
     "output_type": "stream",
     "text": [
      "/Library/Frameworks/Python.framework/Versions/3.12/lib/python3.12/site-packages/keras/src/layers/core/embedding.py:97: UserWarning: Argument `input_length` is deprecated. Just remove it.\n",
      "  warnings.warn(\n"
     ]
    },
    {
     "data": {
      "text/html": [
       "<pre style=\"white-space:pre;overflow-x:auto;line-height:normal;font-family:Menlo,'DejaVu Sans Mono',consolas,'Courier New',monospace\"><span style=\"font-weight: bold\">Model: \"sequential\"</span>\n",
       "</pre>\n"
      ],
      "text/plain": [
       "\u001b[1mModel: \"sequential\"\u001b[0m\n"
      ]
     },
     "metadata": {},
     "output_type": "display_data"
    },
    {
     "data": {
      "text/html": [
       "<pre style=\"white-space:pre;overflow-x:auto;line-height:normal;font-family:Menlo,'DejaVu Sans Mono',consolas,'Courier New',monospace\">┏━━━━━━━━━━━━━━━━━━━━━━━━━━━━━━━━━┳━━━━━━━━━━━━━━━━━━━━━━━━┳━━━━━━━━━━━━━━━┓\n",
       "┃<span style=\"font-weight: bold\"> Layer (type)                    </span>┃<span style=\"font-weight: bold\"> Output Shape           </span>┃<span style=\"font-weight: bold\">       Param # </span>┃\n",
       "┡━━━━━━━━━━━━━━━━━━━━━━━━━━━━━━━━━╇━━━━━━━━━━━━━━━━━━━━━━━━╇━━━━━━━━━━━━━━━┩\n",
       "│ embedding (<span style=\"color: #0087ff; text-decoration-color: #0087ff\">Embedding</span>)           │ ?                      │   <span style=\"color: #00af00; text-decoration-color: #00af00\">0</span> (unbuilt) │\n",
       "├─────────────────────────────────┼────────────────────────┼───────────────┤\n",
       "│ global_average_pooling1d        │ ?                      │             <span style=\"color: #00af00; text-decoration-color: #00af00\">0</span> │\n",
       "│ (<span style=\"color: #0087ff; text-decoration-color: #0087ff\">GlobalAveragePooling1D</span>)        │                        │               │\n",
       "├─────────────────────────────────┼────────────────────────┼───────────────┤\n",
       "│ dense (<span style=\"color: #0087ff; text-decoration-color: #0087ff\">Dense</span>)                   │ ?                      │   <span style=\"color: #00af00; text-decoration-color: #00af00\">0</span> (unbuilt) │\n",
       "├─────────────────────────────────┼────────────────────────┼───────────────┤\n",
       "│ dropout (<span style=\"color: #0087ff; text-decoration-color: #0087ff\">Dropout</span>)               │ ?                      │             <span style=\"color: #00af00; text-decoration-color: #00af00\">0</span> │\n",
       "├─────────────────────────────────┼────────────────────────┼───────────────┤\n",
       "│ dense_1 (<span style=\"color: #0087ff; text-decoration-color: #0087ff\">Dense</span>)                 │ ?                      │   <span style=\"color: #00af00; text-decoration-color: #00af00\">0</span> (unbuilt) │\n",
       "└─────────────────────────────────┴────────────────────────┴───────────────┘\n",
       "</pre>\n"
      ],
      "text/plain": [
       "┏━━━━━━━━━━━━━━━━━━━━━━━━━━━━━━━━━┳━━━━━━━━━━━━━━━━━━━━━━━━┳━━━━━━━━━━━━━━━┓\n",
       "┃\u001b[1m \u001b[0m\u001b[1mLayer (type)                   \u001b[0m\u001b[1m \u001b[0m┃\u001b[1m \u001b[0m\u001b[1mOutput Shape          \u001b[0m\u001b[1m \u001b[0m┃\u001b[1m \u001b[0m\u001b[1m      Param #\u001b[0m\u001b[1m \u001b[0m┃\n",
       "┡━━━━━━━━━━━━━━━━━━━━━━━━━━━━━━━━━╇━━━━━━━━━━━━━━━━━━━━━━━━╇━━━━━━━━━━━━━━━┩\n",
       "│ embedding (\u001b[38;5;33mEmbedding\u001b[0m)           │ ?                      │   \u001b[38;5;34m0\u001b[0m (unbuilt) │\n",
       "├─────────────────────────────────┼────────────────────────┼───────────────┤\n",
       "│ global_average_pooling1d        │ ?                      │             \u001b[38;5;34m0\u001b[0m │\n",
       "│ (\u001b[38;5;33mGlobalAveragePooling1D\u001b[0m)        │                        │               │\n",
       "├─────────────────────────────────┼────────────────────────┼───────────────┤\n",
       "│ dense (\u001b[38;5;33mDense\u001b[0m)                   │ ?                      │   \u001b[38;5;34m0\u001b[0m (unbuilt) │\n",
       "├─────────────────────────────────┼────────────────────────┼───────────────┤\n",
       "│ dropout (\u001b[38;5;33mDropout\u001b[0m)               │ ?                      │             \u001b[38;5;34m0\u001b[0m │\n",
       "├─────────────────────────────────┼────────────────────────┼───────────────┤\n",
       "│ dense_1 (\u001b[38;5;33mDense\u001b[0m)                 │ ?                      │   \u001b[38;5;34m0\u001b[0m (unbuilt) │\n",
       "└─────────────────────────────────┴────────────────────────┴───────────────┘\n"
      ]
     },
     "metadata": {},
     "output_type": "display_data"
    },
    {
     "data": {
      "text/html": [
       "<pre style=\"white-space:pre;overflow-x:auto;line-height:normal;font-family:Menlo,'DejaVu Sans Mono',consolas,'Courier New',monospace\"><span style=\"font-weight: bold\"> Total params: </span><span style=\"color: #00af00; text-decoration-color: #00af00\">0</span> (0.00 B)\n",
       "</pre>\n"
      ],
      "text/plain": [
       "\u001b[1m Total params: \u001b[0m\u001b[38;5;34m0\u001b[0m (0.00 B)\n"
      ]
     },
     "metadata": {},
     "output_type": "display_data"
    },
    {
     "data": {
      "text/html": [
       "<pre style=\"white-space:pre;overflow-x:auto;line-height:normal;font-family:Menlo,'DejaVu Sans Mono',consolas,'Courier New',monospace\"><span style=\"font-weight: bold\"> Trainable params: </span><span style=\"color: #00af00; text-decoration-color: #00af00\">0</span> (0.00 B)\n",
       "</pre>\n"
      ],
      "text/plain": [
       "\u001b[1m Trainable params: \u001b[0m\u001b[38;5;34m0\u001b[0m (0.00 B)\n"
      ]
     },
     "metadata": {},
     "output_type": "display_data"
    },
    {
     "data": {
      "text/html": [
       "<pre style=\"white-space:pre;overflow-x:auto;line-height:normal;font-family:Menlo,'DejaVu Sans Mono',consolas,'Courier New',monospace\"><span style=\"font-weight: bold\"> Non-trainable params: </span><span style=\"color: #00af00; text-decoration-color: #00af00\">0</span> (0.00 B)\n",
       "</pre>\n"
      ],
      "text/plain": [
       "\u001b[1m Non-trainable params: \u001b[0m\u001b[38;5;34m0\u001b[0m (0.00 B)\n"
      ]
     },
     "metadata": {},
     "output_type": "display_data"
    },
    {
     "name": "stdout",
     "output_type": "stream",
     "text": [
      "Epoch 1/5\n",
      "44/44 - 3s - 60ms/step - accuracy: 0.5164 - loss: 0.6919 - val_accuracy: 0.4900 - val_loss: 0.6891\n",
      "Epoch 2/5\n",
      "44/44 - 3s - 60ms/step - accuracy: 0.5164 - loss: 0.6919 - val_accuracy: 0.4900 - val_loss: 0.6891\n",
      "Epoch 2/5\n",
      "44/44 - 1s - 27ms/step - accuracy: 0.5842 - loss: 0.6795 - val_accuracy: 0.6060 - val_loss: 0.6634\n",
      "Epoch 3/5\n",
      "44/44 - 1s - 27ms/step - accuracy: 0.5842 - loss: 0.6795 - val_accuracy: 0.6060 - val_loss: 0.6634\n",
      "Epoch 3/5\n",
      "44/44 - 1s - 27ms/step - accuracy: 0.6466 - loss: 0.6478 - val_accuracy: 0.7496 - val_loss: 0.6159\n",
      "Epoch 4/5\n",
      "44/44 - 1s - 27ms/step - accuracy: 0.6466 - loss: 0.6478 - val_accuracy: 0.7496 - val_loss: 0.6159\n",
      "Epoch 4/5\n",
      "44/44 - 1s - 29ms/step - accuracy: 0.7316 - loss: 0.5912 - val_accuracy: 0.7888 - val_loss: 0.5484\n",
      "Epoch 5/5\n",
      "44/44 - 1s - 29ms/step - accuracy: 0.7316 - loss: 0.5912 - val_accuracy: 0.7888 - val_loss: 0.5484\n",
      "Epoch 5/5\n",
      "44/44 - 1s - 25ms/step - accuracy: 0.7627 - loss: 0.5302 - val_accuracy: 0.8208 - val_loss: 0.4875\n",
      "44/44 - 1s - 25ms/step - accuracy: 0.7627 - loss: 0.5302 - val_accuracy: 0.8208 - val_loss: 0.4875\n",
      "Feed-forward NN accuracy: 81.76% (time 8.4s)\n",
      "Feed-forward NN accuracy: 81.76% (time 8.4s)\n"
     ]
    }
   ],
   "source": [
    "# 2) Feed-forward neural network using Embedding + GlobalAveragePooling\n",
    "embedding_dim = 32\n",
    "ffnn_epochs = 5\n",
    "ffnn_batch = 512\n",
    "\n",
    "model_ff = keras.Sequential([\n",
    "    layers.Embedding(input_dim=top_n, output_dim=embedding_dim, input_length=maxlen),\n",
    "    layers.GlobalAveragePooling1D(),\n",
    "    layers.Dense(32, activation='relu'),\n",
    "    layers.Dropout(0.5),\n",
    "    layers.Dense(1, activation='sigmoid')\n",
    "])\n",
    "model_ff.compile(optimizer='adam', loss='binary_crossentropy', metrics=['accuracy'])\n",
    "model_ff.summary()\n",
    "\n",
    "start = time.time()\n",
    "model_ff.fit(x_train_pad, y_train, epochs=ffnn_epochs, batch_size=ffnn_batch, validation_split=0.1, verbose=2)\n",
    "loss, acc = model_ff.evaluate(x_test_pad, y_test, verbose=0)\n",
    "print(f'Feed-forward NN accuracy: {acc*100:.2f}% (time {time.time()-start:.1f}s)')\n"
   ]
  },
  {
   "cell_type": "code",
   "execution_count": 8,
   "id": "4953b395",
   "metadata": {},
   "outputs": [
    {
     "data": {
      "text/html": [
       "<pre style=\"white-space:pre;overflow-x:auto;line-height:normal;font-family:Menlo,'DejaVu Sans Mono',consolas,'Courier New',monospace\"><span style=\"font-weight: bold\">Model: \"sequential_1\"</span>\n",
       "</pre>\n"
      ],
      "text/plain": [
       "\u001b[1mModel: \"sequential_1\"\u001b[0m\n"
      ]
     },
     "metadata": {},
     "output_type": "display_data"
    },
    {
     "data": {
      "text/html": [
       "<pre style=\"white-space:pre;overflow-x:auto;line-height:normal;font-family:Menlo,'DejaVu Sans Mono',consolas,'Courier New',monospace\">┏━━━━━━━━━━━━━━━━━━━━━━━━━━━━━━━━━┳━━━━━━━━━━━━━━━━━━━━━━━━┳━━━━━━━━━━━━━━━┓\n",
       "┃<span style=\"font-weight: bold\"> Layer (type)                    </span>┃<span style=\"font-weight: bold\"> Output Shape           </span>┃<span style=\"font-weight: bold\">       Param # </span>┃\n",
       "┡━━━━━━━━━━━━━━━━━━━━━━━━━━━━━━━━━╇━━━━━━━━━━━━━━━━━━━━━━━━╇━━━━━━━━━━━━━━━┩\n",
       "│ embedding_1 (<span style=\"color: #0087ff; text-decoration-color: #0087ff\">Embedding</span>)         │ ?                      │   <span style=\"color: #00af00; text-decoration-color: #00af00\">0</span> (unbuilt) │\n",
       "├─────────────────────────────────┼────────────────────────┼───────────────┤\n",
       "│ conv1d (<span style=\"color: #0087ff; text-decoration-color: #0087ff\">Conv1D</span>)                 │ ?                      │   <span style=\"color: #00af00; text-decoration-color: #00af00\">0</span> (unbuilt) │\n",
       "├─────────────────────────────────┼────────────────────────┼───────────────┤\n",
       "│ max_pooling1d (<span style=\"color: #0087ff; text-decoration-color: #0087ff\">MaxPooling1D</span>)    │ ?                      │             <span style=\"color: #00af00; text-decoration-color: #00af00\">0</span> │\n",
       "├─────────────────────────────────┼────────────────────────┼───────────────┤\n",
       "│ conv1d_1 (<span style=\"color: #0087ff; text-decoration-color: #0087ff\">Conv1D</span>)               │ ?                      │   <span style=\"color: #00af00; text-decoration-color: #00af00\">0</span> (unbuilt) │\n",
       "├─────────────────────────────────┼────────────────────────┼───────────────┤\n",
       "│ max_pooling1d_1 (<span style=\"color: #0087ff; text-decoration-color: #0087ff\">MaxPooling1D</span>)  │ ?                      │             <span style=\"color: #00af00; text-decoration-color: #00af00\">0</span> │\n",
       "├─────────────────────────────────┼────────────────────────┼───────────────┤\n",
       "│ conv1d_2 (<span style=\"color: #0087ff; text-decoration-color: #0087ff\">Conv1D</span>)               │ ?                      │   <span style=\"color: #00af00; text-decoration-color: #00af00\">0</span> (unbuilt) │\n",
       "├─────────────────────────────────┼────────────────────────┼───────────────┤\n",
       "│ max_pooling1d_2 (<span style=\"color: #0087ff; text-decoration-color: #0087ff\">MaxPooling1D</span>)  │ ?                      │             <span style=\"color: #00af00; text-decoration-color: #00af00\">0</span> │\n",
       "├─────────────────────────────────┼────────────────────────┼───────────────┤\n",
       "│ conv1d_3 (<span style=\"color: #0087ff; text-decoration-color: #0087ff\">Conv1D</span>)               │ ?                      │   <span style=\"color: #00af00; text-decoration-color: #00af00\">0</span> (unbuilt) │\n",
       "├─────────────────────────────────┼────────────────────────┼───────────────┤\n",
       "│ global_max_pooling1d            │ ?                      │             <span style=\"color: #00af00; text-decoration-color: #00af00\">0</span> │\n",
       "│ (<span style=\"color: #0087ff; text-decoration-color: #0087ff\">GlobalMaxPooling1D</span>)            │                        │               │\n",
       "├─────────────────────────────────┼────────────────────────┼───────────────┤\n",
       "│ dense_2 (<span style=\"color: #0087ff; text-decoration-color: #0087ff\">Dense</span>)                 │ ?                      │   <span style=\"color: #00af00; text-decoration-color: #00af00\">0</span> (unbuilt) │\n",
       "├─────────────────────────────────┼────────────────────────┼───────────────┤\n",
       "│ dropout_1 (<span style=\"color: #0087ff; text-decoration-color: #0087ff\">Dropout</span>)             │ ?                      │             <span style=\"color: #00af00; text-decoration-color: #00af00\">0</span> │\n",
       "├─────────────────────────────────┼────────────────────────┼───────────────┤\n",
       "│ dense_3 (<span style=\"color: #0087ff; text-decoration-color: #0087ff\">Dense</span>)                 │ ?                      │   <span style=\"color: #00af00; text-decoration-color: #00af00\">0</span> (unbuilt) │\n",
       "└─────────────────────────────────┴────────────────────────┴───────────────┘\n",
       "</pre>\n"
      ],
      "text/plain": [
       "┏━━━━━━━━━━━━━━━━━━━━━━━━━━━━━━━━━┳━━━━━━━━━━━━━━━━━━━━━━━━┳━━━━━━━━━━━━━━━┓\n",
       "┃\u001b[1m \u001b[0m\u001b[1mLayer (type)                   \u001b[0m\u001b[1m \u001b[0m┃\u001b[1m \u001b[0m\u001b[1mOutput Shape          \u001b[0m\u001b[1m \u001b[0m┃\u001b[1m \u001b[0m\u001b[1m      Param #\u001b[0m\u001b[1m \u001b[0m┃\n",
       "┡━━━━━━━━━━━━━━━━━━━━━━━━━━━━━━━━━╇━━━━━━━━━━━━━━━━━━━━━━━━╇━━━━━━━━━━━━━━━┩\n",
       "│ embedding_1 (\u001b[38;5;33mEmbedding\u001b[0m)         │ ?                      │   \u001b[38;5;34m0\u001b[0m (unbuilt) │\n",
       "├─────────────────────────────────┼────────────────────────┼───────────────┤\n",
       "│ conv1d (\u001b[38;5;33mConv1D\u001b[0m)                 │ ?                      │   \u001b[38;5;34m0\u001b[0m (unbuilt) │\n",
       "├─────────────────────────────────┼────────────────────────┼───────────────┤\n",
       "│ max_pooling1d (\u001b[38;5;33mMaxPooling1D\u001b[0m)    │ ?                      │             \u001b[38;5;34m0\u001b[0m │\n",
       "├─────────────────────────────────┼────────────────────────┼───────────────┤\n",
       "│ conv1d_1 (\u001b[38;5;33mConv1D\u001b[0m)               │ ?                      │   \u001b[38;5;34m0\u001b[0m (unbuilt) │\n",
       "├─────────────────────────────────┼────────────────────────┼───────────────┤\n",
       "│ max_pooling1d_1 (\u001b[38;5;33mMaxPooling1D\u001b[0m)  │ ?                      │             \u001b[38;5;34m0\u001b[0m │\n",
       "├─────────────────────────────────┼────────────────────────┼───────────────┤\n",
       "│ conv1d_2 (\u001b[38;5;33mConv1D\u001b[0m)               │ ?                      │   \u001b[38;5;34m0\u001b[0m (unbuilt) │\n",
       "├─────────────────────────────────┼────────────────────────┼───────────────┤\n",
       "│ max_pooling1d_2 (\u001b[38;5;33mMaxPooling1D\u001b[0m)  │ ?                      │             \u001b[38;5;34m0\u001b[0m │\n",
       "├─────────────────────────────────┼────────────────────────┼───────────────┤\n",
       "│ conv1d_3 (\u001b[38;5;33mConv1D\u001b[0m)               │ ?                      │   \u001b[38;5;34m0\u001b[0m (unbuilt) │\n",
       "├─────────────────────────────────┼────────────────────────┼───────────────┤\n",
       "│ global_max_pooling1d            │ ?                      │             \u001b[38;5;34m0\u001b[0m │\n",
       "│ (\u001b[38;5;33mGlobalMaxPooling1D\u001b[0m)            │                        │               │\n",
       "├─────────────────────────────────┼────────────────────────┼───────────────┤\n",
       "│ dense_2 (\u001b[38;5;33mDense\u001b[0m)                 │ ?                      │   \u001b[38;5;34m0\u001b[0m (unbuilt) │\n",
       "├─────────────────────────────────┼────────────────────────┼───────────────┤\n",
       "│ dropout_1 (\u001b[38;5;33mDropout\u001b[0m)             │ ?                      │             \u001b[38;5;34m0\u001b[0m │\n",
       "├─────────────────────────────────┼────────────────────────┼───────────────┤\n",
       "│ dense_3 (\u001b[38;5;33mDense\u001b[0m)                 │ ?                      │   \u001b[38;5;34m0\u001b[0m (unbuilt) │\n",
       "└─────────────────────────────────┴────────────────────────┴───────────────┘\n"
      ]
     },
     "metadata": {},
     "output_type": "display_data"
    },
    {
     "data": {
      "text/html": [
       "<pre style=\"white-space:pre;overflow-x:auto;line-height:normal;font-family:Menlo,'DejaVu Sans Mono',consolas,'Courier New',monospace\"><span style=\"font-weight: bold\"> Total params: </span><span style=\"color: #00af00; text-decoration-color: #00af00\">0</span> (0.00 B)\n",
       "</pre>\n"
      ],
      "text/plain": [
       "\u001b[1m Total params: \u001b[0m\u001b[38;5;34m0\u001b[0m (0.00 B)\n"
      ]
     },
     "metadata": {},
     "output_type": "display_data"
    },
    {
     "data": {
      "text/html": [
       "<pre style=\"white-space:pre;overflow-x:auto;line-height:normal;font-family:Menlo,'DejaVu Sans Mono',consolas,'Courier New',monospace\"><span style=\"font-weight: bold\"> Trainable params: </span><span style=\"color: #00af00; text-decoration-color: #00af00\">0</span> (0.00 B)\n",
       "</pre>\n"
      ],
      "text/plain": [
       "\u001b[1m Trainable params: \u001b[0m\u001b[38;5;34m0\u001b[0m (0.00 B)\n"
      ]
     },
     "metadata": {},
     "output_type": "display_data"
    },
    {
     "data": {
      "text/html": [
       "<pre style=\"white-space:pre;overflow-x:auto;line-height:normal;font-family:Menlo,'DejaVu Sans Mono',consolas,'Courier New',monospace\"><span style=\"font-weight: bold\"> Non-trainable params: </span><span style=\"color: #00af00; text-decoration-color: #00af00\">0</span> (0.00 B)\n",
       "</pre>\n"
      ],
      "text/plain": [
       "\u001b[1m Non-trainable params: \u001b[0m\u001b[38;5;34m0\u001b[0m (0.00 B)\n"
      ]
     },
     "metadata": {},
     "output_type": "display_data"
    },
    {
     "name": "stdout",
     "output_type": "stream",
     "text": [
      "Epoch 1/6\n",
      "176/176 - 57s - 321ms/step - accuracy: 0.7227 - loss: 0.4951 - val_accuracy: 0.8764 - val_loss: 0.3084\n",
      "Epoch 2/6\n",
      "176/176 - 57s - 321ms/step - accuracy: 0.7227 - loss: 0.4951 - val_accuracy: 0.8764 - val_loss: 0.3084\n",
      "Epoch 2/6\n",
      "176/176 - 53s - 303ms/step - accuracy: 0.8995 - loss: 0.2576 - val_accuracy: 0.8860 - val_loss: 0.2889\n",
      "Epoch 3/6\n",
      "176/176 - 53s - 303ms/step - accuracy: 0.8995 - loss: 0.2576 - val_accuracy: 0.8860 - val_loss: 0.2889\n",
      "Epoch 3/6\n",
      "176/176 - 57s - 326ms/step - accuracy: 0.9344 - loss: 0.1798 - val_accuracy: 0.8880 - val_loss: 0.3014\n",
      "Epoch 4/6\n",
      "176/176 - 57s - 326ms/step - accuracy: 0.9344 - loss: 0.1798 - val_accuracy: 0.8880 - val_loss: 0.3014\n",
      "Epoch 4/6\n",
      "176/176 - 58s - 330ms/step - accuracy: 0.9561 - loss: 0.1273 - val_accuracy: 0.8832 - val_loss: 0.3713\n",
      "Epoch 5/6\n",
      "176/176 - 58s - 330ms/step - accuracy: 0.9561 - loss: 0.1273 - val_accuracy: 0.8832 - val_loss: 0.3713\n",
      "Epoch 5/6\n",
      "176/176 - 53s - 303ms/step - accuracy: 0.9729 - loss: 0.0793 - val_accuracy: 0.8828 - val_loss: 0.4496\n",
      "Epoch 6/6\n",
      "176/176 - 53s - 303ms/step - accuracy: 0.9729 - loss: 0.0793 - val_accuracy: 0.8828 - val_loss: 0.4496\n",
      "Epoch 6/6\n",
      "176/176 - 53s - 302ms/step - accuracy: 0.9818 - loss: 0.0551 - val_accuracy: 0.8768 - val_loss: 0.4717\n",
      "176/176 - 53s - 302ms/step - accuracy: 0.9818 - loss: 0.0551 - val_accuracy: 0.8768 - val_loss: 0.4717\n",
      "Conv1D CNN accuracy: 86.97% (time 352.1s)\n",
      "Conv1D CNN accuracy: 86.97% (time 352.1s)\n"
     ]
    }
   ],
   "source": [
    "# 3) Convolutional 1D Neural Network (>=3 Conv1D + MaxPool blocks)\n",
    "conv_epochs = 6\n",
    "conv_batch = 128\n",
    "\n",
    "model_cnn = keras.Sequential()\n",
    "model_cnn.add(layers.Embedding(input_dim=top_n, output_dim=128, input_length=maxlen))\n",
    "# Block 1\n",
    "model_cnn.add(layers.Conv1D(128, 5, activation='relu', padding='same'))\n",
    "model_cnn.add(layers.MaxPooling1D(pool_size=2))\n",
    "# Block 2\n",
    "model_cnn.add(layers.Conv1D(128, 5, activation='relu', padding='same'))\n",
    "model_cnn.add(layers.MaxPooling1D(pool_size=2))\n",
    "# Block 3\n",
    "model_cnn.add(layers.Conv1D(128, 5, activation='relu', padding='same'))\n",
    "model_cnn.add(layers.MaxPooling1D(pool_size=2))\n",
    "# Additional small block to increase receptive field\n",
    "model_cnn.add(layers.Conv1D(256, 5, activation='relu', padding='same'))\n",
    "model_cnn.add(layers.GlobalMaxPooling1D())\n",
    "model_cnn.add(layers.Dense(64, activation='relu'))\n",
    "model_cnn.add(layers.Dropout(0.5))\n",
    "model_cnn.add(layers.Dense(1, activation='sigmoid'))\n",
    "\n",
    "model_cnn.compile(optimizer='adam', loss='binary_crossentropy', metrics=['accuracy'])\n",
    "model_cnn.summary()\n",
    "\n",
    "start = time.time()\n",
    "model_cnn.fit(x_train_pad, y_train, epochs=conv_epochs, batch_size=conv_batch, validation_split=0.1, verbose=2)\n",
    "loss_cnn, acc_cnn = model_cnn.evaluate(x_test_pad, y_test, verbose=0)\n",
    "print(f'Conv1D CNN accuracy: {acc_cnn*100:.2f}% (time {time.time()-start:.1f}s)')\n"
   ]
  },
  {
   "cell_type": "code",
   "execution_count": 9,
   "id": "63329920",
   "metadata": {},
   "outputs": [
    {
     "name": "stdout",
     "output_type": "stream",
     "text": [
      "Decoding train/test to raw text (this may take a few seconds)\n",
      "Shapes after stopword removal and re-tokenization: (25000, 500) (25000, 500)\n",
      "Epoch 1/4\n",
      "Shapes after stopword removal and re-tokenization: (25000, 500) (25000, 500)\n",
      "Epoch 1/4\n",
      "176/176 - 59s - 335ms/step - accuracy: 0.7556 - loss: 0.4637 - val_accuracy: 0.8580 - val_loss: 0.3494\n",
      "Epoch 2/4\n",
      "176/176 - 59s - 335ms/step - accuracy: 0.7556 - loss: 0.4637 - val_accuracy: 0.8580 - val_loss: 0.3494\n",
      "Epoch 2/4\n",
      "176/176 - 50s - 283ms/step - accuracy: 0.9047 - loss: 0.2492 - val_accuracy: 0.8876 - val_loss: 0.2775\n",
      "Epoch 3/4\n",
      "176/176 - 50s - 283ms/step - accuracy: 0.9047 - loss: 0.2492 - val_accuracy: 0.8876 - val_loss: 0.2775\n",
      "Epoch 3/4\n",
      "176/176 - 48s - 270ms/step - accuracy: 0.9328 - loss: 0.1833 - val_accuracy: 0.8764 - val_loss: 0.3132\n",
      "Epoch 4/4\n",
      "176/176 - 48s - 270ms/step - accuracy: 0.9328 - loss: 0.1833 - val_accuracy: 0.8764 - val_loss: 0.3132\n",
      "Epoch 4/4\n",
      "176/176 - 52s - 297ms/step - accuracy: 0.9562 - loss: 0.1254 - val_accuracy: 0.8716 - val_loss: 0.3888\n",
      "176/176 - 52s - 297ms/step - accuracy: 0.9562 - loss: 0.1254 - val_accuracy: 0.8716 - val_loss: 0.3888\n",
      "Conv1D (no stopwords) accuracy: 86.21% (time 226.3s)\n",
      "Conv1D (no stopwords) accuracy: 86.21% (time 226.3s)\n"
     ]
    }
   ],
   "source": [
    "# 4) Stopword removal experiment - decode reviews, remove stopwords, re-tokenize and retrain CNN (shorter run)\n",
    "from tensorflow.keras.preprocessing.text import Tokenizer\n",
    "\n",
    "# Decode all reviews into raw text (slow but manageable for this dataset)\n",
    "print('Decoding train/test to raw text (this may take a few seconds)')\n",
    "x_train_text = [decode_review(seq) for seq in x_train]\n",
    "x_test_text = [decode_review(seq) for seq in x_test]\n",
    "\n",
    "# Remove stopwords using sklearn's ENGLISH_STOP_WORDS set for convenience\n",
    "stopwords = set(ENGLISH_STOP_WORDS)\n",
    "\n",
    "def remove_stopwords(text):\n",
    "    tokens = text.split()\n",
    "    filtered = [t for t in tokens if t.lower() not in stopwords]\n",
    "    return ' '.join(filtered)\n",
    "\n",
    "x_train_nostop = [remove_stopwords(t) for t in x_train_text]\n",
    "x_test_nostop = [remove_stopwords(t) for t in x_test_text]\n",
    "\n",
    "# Tokenize again (limit to top_n words)\n",
    "tokenizer = Tokenizer(num_words=top_n, oov_token=None)\n",
    "tokenizer.fit_on_texts(x_train_nostop)\n",
    "x_train_seq_ns = tokenizer.texts_to_sequences(x_train_nostop)\n",
    "x_test_seq_ns = tokenizer.texts_to_sequences(x_test_nostop)\n",
    "x_train_pad_ns = pad_sequences(x_train_seq_ns, maxlen=maxlen, padding='post', truncating='post')\n",
    "x_test_pad_ns = pad_sequences(x_test_seq_ns, maxlen=maxlen, padding='post', truncating='post')\n",
    "\n",
    "print('Shapes after stopword removal and re-tokenization:', x_train_pad_ns.shape, x_test_pad_ns.shape)\n",
    "\n",
    "# Train a quick CNN on the stopword-removed data to measure impact (fewer epochs)\n",
    "small_epochs = 4\n",
    "small_batch = 128\n",
    "model_cnn_ns = keras.Sequential([\n",
    "    layers.Embedding(input_dim=top_n, output_dim=128, input_length=maxlen),\n",
    "    layers.Conv1D(128, 5, activation='relu', padding='same'),\n",
    "    layers.MaxPooling1D(2),\n",
    "    layers.Conv1D(128, 5, activation='relu', padding='same'),\n",
    "    layers.MaxPooling1D(2),\n",
    "    layers.Conv1D(128, 5, activation='relu', padding='same'),\n",
    "    layers.MaxPooling1D(2),\n",
    "    layers.GlobalMaxPooling1D(),\n",
    "    layers.Dense(64, activation='relu'),\n",
    "    layers.Dropout(0.5),\n",
    "    layers.Dense(1, activation='sigmoid')\n",
    "])\n",
    "model_cnn_ns.compile(optimizer='adam', loss='binary_crossentropy', metrics=['accuracy'])\n",
    "\n",
    "start = time.time()\n",
    "model_cnn_ns.fit(x_train_pad_ns, y_train, epochs=small_epochs, batch_size=small_batch, validation_split=0.1, verbose=2)\n",
    "loss_ns, acc_ns = model_cnn_ns.evaluate(x_test_pad_ns, y_test, verbose=0)\n",
    "print(f'Conv1D (no stopwords) accuracy: {acc_ns*100:.2f}% (time {time.time()-start:.1f}s)')\n"
   ]
  },
  {
   "cell_type": "code",
   "execution_count": 13,
   "id": "543508e6",
   "metadata": {},
   "outputs": [
    {
     "name": "stdout",
     "output_type": "stream",
     "text": [
      "\n",
      "Training Logistic Regression (BOW, no stopwords) ...\n"
     ]
    },
    {
     "name": "stderr",
     "output_type": "stream",
     "text": [
      "/Library/Frameworks/Python.framework/Versions/3.12/lib/python3.12/site-packages/sklearn/linear_model/_sag.py:348: ConvergenceWarning: The max_iter was reached which means the coef_ did not converge\n",
      "  warnings.warn(\n"
     ]
    },
    {
     "name": "stdout",
     "output_type": "stream",
     "text": [
      "Logistic Regression (no stopwords) accuracy: 85.64% (time 113.1s)\n"
     ]
    },
    {
     "name": "stderr",
     "output_type": "stream",
     "text": [
      "/Library/Frameworks/Python.framework/Versions/3.12/lib/python3.12/site-packages/keras/src/layers/core/embedding.py:97: UserWarning: Argument `input_length` is deprecated. Just remove it.\n",
      "  warnings.warn(\n"
     ]
    },
    {
     "name": "stdout",
     "output_type": "stream",
     "text": [
      "\n",
      "Training Feed-forward NN (no stopwords) ...\n",
      "Epoch 1/5\n",
      "44/44 - 2s - 43ms/step - accuracy: 0.5168 - loss: 0.6924 - val_accuracy: 0.5344 - val_loss: 0.6899\n",
      "Epoch 2/5\n",
      "44/44 - 1s - 19ms/step - accuracy: 0.5569 - loss: 0.6857 - val_accuracy: 0.6408 - val_loss: 0.6791\n",
      "Epoch 3/5\n",
      "44/44 - 1s - 18ms/step - accuracy: 0.6046 - loss: 0.6697 - val_accuracy: 0.6144 - val_loss: 0.6566\n",
      "Epoch 4/5\n",
      "44/44 - 1s - 18ms/step - accuracy: 0.6736 - loss: 0.6373 - val_accuracy: 0.7768 - val_loss: 0.6077\n",
      "Epoch 5/5\n",
      "44/44 - 1s - 19ms/step - accuracy: 0.7334 - loss: 0.5838 - val_accuracy: 0.8104 - val_loss: 0.5412\n",
      "Feed-forward NN (no stopwords) accuracy: 81.10% (time 6.1s)\n"
     ]
    }
   ],
   "source": [
    "# Logistic Regression (BOW) on stopword-removed data\n",
    "X_train_bow_ns = sequences_to_bow(x_train_pad_ns, vocab_size)\n",
    "X_test_bow_ns = sequences_to_bow(x_test_pad_ns, vocab_size)\n",
    "\n",
    "print('\\nTraining Logistic Regression (BOW, no stopwords) ...')\n",
    "start = time.time()\n",
    "lr_ns = LogisticRegression(max_iter=200, solver='saga', n_jobs=-1)\n",
    "lr_ns.fit(X_train_bow_ns, y_train)\n",
    "y_pred_lr_ns = lr_ns.predict(X_test_bow_ns)\n",
    "acc_lr_ns = accuracy_score(y_test, y_pred_lr_ns) * 100.0\n",
    "print(f'Logistic Regression (no stopwords) accuracy: {acc_lr_ns:.2f}% (time {time.time()-start:.1f}s)')\n",
    "\n",
    "# Feed-forward NN on stopword-removed data\n",
    "model_ff_ns = keras.Sequential([\n",
    "    layers.Embedding(input_dim=top_n, output_dim=embedding_dim, input_length=maxlen),\n",
    "    layers.GlobalAveragePooling1D(),\n",
    "    layers.Dense(32, activation='relu'),\n",
    "    layers.Dropout(0.5),\n",
    "    layers.Dense(1, activation='sigmoid')\n",
    "])\n",
    "model_ff_ns.compile(optimizer='adam', loss='binary_crossentropy', metrics=['accuracy'])\n",
    "\n",
    "print('\\nTraining Feed-forward NN (no stopwords) ...')\n",
    "start = time.time()\n",
    "model_ff_ns.fit(x_train_pad_ns, y_train, epochs=ffnn_epochs, batch_size=ffnn_batch, validation_split=0.1, verbose=2)\n",
    "loss_ff_ns, acc_ff_ns = model_ff_ns.evaluate(x_test_pad_ns, y_test, verbose=0)\n",
    "print(f'Feed-forward NN (no stopwords) accuracy: {acc_ff_ns*100:.2f}% (time {time.time()-start:.1f}s)')"
   ]
  },
  {
   "cell_type": "code",
   "execution_count": 14,
   "id": "536c4c29",
   "metadata": {},
   "outputs": [
    {
     "data": {
      "text/html": [
       "<div>\n",
       "<style scoped>\n",
       "    .dataframe tbody tr th:only-of-type {\n",
       "        vertical-align: middle;\n",
       "    }\n",
       "\n",
       "    .dataframe tbody tr th {\n",
       "        vertical-align: top;\n",
       "    }\n",
       "\n",
       "    .dataframe thead th {\n",
       "        text-align: right;\n",
       "    }\n",
       "</style>\n",
       "<table border=\"1\" class=\"dataframe\">\n",
       "  <thead>\n",
       "    <tr style=\"text-align: right;\">\n",
       "      <th></th>\n",
       "      <th>Model</th>\n",
       "      <th>Accuracy (%)</th>\n",
       "    </tr>\n",
       "  </thead>\n",
       "  <tbody>\n",
       "    <tr>\n",
       "      <th>0</th>\n",
       "      <td>Logistic Regression (BOW)</td>\n",
       "      <td>85.736000</td>\n",
       "    </tr>\n",
       "    <tr>\n",
       "      <th>1</th>\n",
       "      <td>Feed-forward NN</td>\n",
       "      <td>81.756002</td>\n",
       "    </tr>\n",
       "    <tr>\n",
       "      <th>2</th>\n",
       "      <td>Conv1D CNN</td>\n",
       "      <td>86.967999</td>\n",
       "    </tr>\n",
       "    <tr>\n",
       "      <th>3</th>\n",
       "      <td>Conv1D CNN (no stopwords)</td>\n",
       "      <td>86.211997</td>\n",
       "    </tr>\n",
       "    <tr>\n",
       "      <th>4</th>\n",
       "      <td>Logistic Regression (BOW, no stopwords)</td>\n",
       "      <td>85.644000</td>\n",
       "    </tr>\n",
       "    <tr>\n",
       "      <th>5</th>\n",
       "      <td>Feed-forward NN (no stopwords)</td>\n",
       "      <td>81.095999</td>\n",
       "    </tr>\n",
       "  </tbody>\n",
       "</table>\n",
       "</div>"
      ],
      "text/plain": [
       "                                     Model  Accuracy (%)\n",
       "0                Logistic Regression (BOW)     85.736000\n",
       "1                          Feed-forward NN     81.756002\n",
       "2                               Conv1D CNN     86.967999\n",
       "3                Conv1D CNN (no stopwords)     86.211997\n",
       "4  Logistic Regression (BOW, no stopwords)     85.644000\n",
       "5           Feed-forward NN (no stopwords)     81.095999"
      ]
     },
     "metadata": {},
     "output_type": "display_data"
    },
    {
     "data": {
      "image/png": "[encoded data removed]",
      "text/plain": [
       "<Figure size 1000x500 with 1 Axes>"
      ]
     },
     "metadata": {},
     "output_type": "display_data"
    }
   ],
   "source": [
    "import pandas as pd\n",
    "\n",
    "import matplotlib.pyplot as plt\n",
    "\n",
    "# Collect results from previous cells\n",
    "results = [\n",
    "    {\n",
    "        \"Model\": \"Logistic Regression (BOW)\",\n",
    "        \"Accuracy (%)\": acc_lr,\n",
    "    },\n",
    "    {\n",
    "        \"Model\": \"Feed-forward NN\",\n",
    "        \"Accuracy (%)\": acc * 100,\n",
    "    },\n",
    "    {\n",
    "        \"Model\": \"Conv1D CNN\",\n",
    "        \"Accuracy (%)\": acc_cnn * 100,\n",
    "    },\n",
    "    {\n",
    "        \"Model\": \"Conv1D CNN (no stopwords)\",\n",
    "        \"Accuracy (%)\": acc_ns * 100,\n",
    "    },\n",
    "    {\n",
    "        \"Model\": \"Logistic Regression (BOW, no stopwords)\",\n",
    "        \"Accuracy (%)\": acc_lr_ns,\n",
    "    },\n",
    "    {\n",
    "        \"Model\": \"Feed-forward NN (no stopwords)\",\n",
    "        \"Accuracy (%)\": acc_ff_ns * 100,\n",
    "    },\n",
    "]\n",
    "\n",
    "# Create DataFrame for display\n",
    "results_df = pd.DataFrame(results)\n",
    "display(results_df)\n",
    "\n",
    "# Bar graph\n",
    "plt.figure(figsize=(10, 5))\n",
    "plt.bar(results_df[\"Model\"], results_df[\"Accuracy (%)\"], color='skyblue')\n",
    "plt.ylabel(\"Accuracy (%)\")\n",
    "plt.title(\"IMDB Sentiment Classification: Model Comparison\")\n",
    "plt.xticks(rotation=30, ha='right')\n",
    "plt.ylim(0, 100)\n",
    "plt.tight_layout()\n",
    "plt.show()"
   ]
  }
 ],
 "metadata": {
  "kernelspec": {
   "display_name": "Python 3",
   "language": "python",
   "name": "python3"
  },
  "language_info": {
   "codemirror_mode": {
    "name": "ipython",
    "version": 3
   },
   "file_extension": ".py",
   "mimetype": "text/x-python",
   "name": "python",
   "nbconvert_exporter": "python",
   "pygments_lexer": "ipython3",
   "version": "3.12.5"
  }
 },
 "nbformat": 4,
 "nbformat_minor": 5
}
